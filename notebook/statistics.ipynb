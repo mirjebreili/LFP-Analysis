{
 "cells": [
  {
   "cell_type": "code",
   "execution_count": 1,
   "id": "7a9f3f68",
   "metadata": {},
   "outputs": [],
   "source": [
    "import pandas as pd\n",
    "from scipy.stats import shapiro, kstest ,mannwhitneyu ,sem\n",
    "from scipy.stats import mannwhitneyu\n",
    "%config Completer.use_jedi = False"
   ]
  },
  {
   "cell_type": "code",
   "execution_count": 2,
   "id": "64645b29",
   "metadata": {},
   "outputs": [],
   "source": [
    "# Loading mean PSD of each mouse\n",
    "wt=pd.read_csv('D:/Projects/SpikeSorting/matlab_files/wt_final.csv')\n",
    "tg=pd.read_csv('D:/Projects/SpikeSorting/matlab_files/tg_final.csv')"
   ]
  },
  {
   "cell_type": "code",
   "execution_count": 3,
   "id": "a2a2fab2",
   "metadata": {},
   "outputs": [],
   "source": [
    "wt['label']=0\n",
    "tg['label']=1"
   ]
  },
  {
   "cell_type": "markdown",
   "id": "b23f8b53",
   "metadata": {},
   "source": [
    "# Mean"
   ]
  },
  {
   "cell_type": "code",
   "execution_count": 17,
   "id": "04759da9",
   "metadata": {},
   "outputs": [
    {
     "name": "stdout",
     "output_type": "stream",
     "text": [
      "Mean of Delta Band : 1.2977355328121714\n",
      "Mean of Theta Band : 1.3946975114736726\n",
      "Mean of Slow Gamma Band : 0.13645453892132614\n",
      "Mean of Fast Gamma Band : 0.04866826161048609\n"
     ]
    }
   ],
   "source": [
    "for col in wt.columns[:-2]: # excluding 2 last columns(column name and column label)\n",
    "    print(\"Mean of \" + col + \" Band\",end=' : ')\n",
    "    print(np.mean(wt[col].values))"
   ]
  },
  {
   "cell_type": "code",
   "execution_count": 12,
   "id": "e0b081aa",
   "metadata": {
    "scrolled": true
   },
   "outputs": [
    {
     "name": "stdout",
     "output_type": "stream",
     "text": [
      "Mean of Delta band : 1.0900872990549872\n",
      "Mean of Theta band : 1.2053343028843606\n",
      "Mean of Slow Gamma band : 0.07519725725954467\n",
      "Mean of Fast Gamma band : 0.0232656718342773\n"
     ]
    }
   ],
   "source": [
    "for col in tg.columns[:-2]: # excluding 2 last columns(column name and column label)\n",
    "    print(\"Mean of \" + col + \" Band\",end=' : ')\n",
    "    print(np.mean(tg[col].values))"
   ]
  },
  {
   "cell_type": "markdown",
   "id": "fec1ad28",
   "metadata": {},
   "source": [
    "# SEM "
   ]
  },
  {
   "cell_type": "code",
   "execution_count": 15,
   "id": "2e38f27d",
   "metadata": {},
   "outputs": [
    {
     "name": "stdout",
     "output_type": "stream",
     "text": [
      "SEM of Delta band : 0.0388372223435022\n",
      "SEM of Theta band : 0.19423450018551974\n",
      "SEM of Slow Gamma band : 0.008295722464705568\n",
      "SEM of Fast Gamma band : 0.0024030095813511215\n"
     ]
    }
   ],
   "source": [
    "for col in wt.columns[:-2]:\n",
    "    print(\"SEM of \" + col + \" Band\",end=' : ')\n",
    "    print(sem(wt[col].values))"
   ]
  },
  {
   "cell_type": "code",
   "execution_count": 16,
   "id": "31d1b983",
   "metadata": {},
   "outputs": [
    {
     "name": "stdout",
     "output_type": "stream",
     "text": [
      "SEM of Delta band : 0.0849053078820742\n",
      "SEM of Theta band : 0.18476088512040806\n",
      "SEM of Slow Gamma band : 0.008842110225945263\n",
      "SEM of Fast Gamma band : 0.0026458408560859946\n"
     ]
    }
   ],
   "source": [
    "for col in wt.columns[:-2]:\n",
    "    print(\"SEM of \" + col + \" Band\",end=' : ')\n",
    "    print(sem(tg[col].values))"
   ]
  },
  {
   "cell_type": "markdown",
   "id": "b772a2dd",
   "metadata": {},
   "source": [
    "# Mann-Whitney U test"
   ]
  },
  {
   "cell_type": "code",
   "execution_count": 38,
   "id": "c8ea78a4",
   "metadata": {},
   "outputs": [
    {
     "name": "stdout",
     "output_type": "stream",
     "text": [
      "Delta\n",
      "MannwhitneyuResult(statistic=18.0, pvalue=0.0350446098049103)\n",
      "Theta\n",
      "MannwhitneyuResult(statistic=28.0, pvalue=0.18255611327184196)\n",
      "Slow Gamma\n",
      "MannwhitneyuResult(statistic=4.0, pvalue=0.001037552361492662)\n",
      "Fast Gamma\n",
      "MannwhitneyuResult(statistic=0.0, pvalue=0.00028921295368177803)\n"
     ]
    }
   ],
   "source": [
    "for col in wt.columns[:-2]: # excluding 2 last columns(column name and column label)\n",
    "    print(col)\n",
    "    print(mannwhitneyu(wt[col].values,tg[col].values))"
   ]
  },
  {
   "cell_type": "code",
   "execution_count": null,
   "id": "50a2fb89",
   "metadata": {},
   "outputs": [],
   "source": []
  }
 ],
 "metadata": {
  "kernelspec": {
   "display_name": "Python [conda env:lfp]",
   "language": "python",
   "name": "conda-env-lfp-py"
  },
  "language_info": {
   "codemirror_mode": {
    "name": "ipython",
    "version": 3
   },
   "file_extension": ".py",
   "mimetype": "text/x-python",
   "name": "python",
   "nbconvert_exporter": "python",
   "pygments_lexer": "ipython3",
   "version": "3.7.11"
  }
 },
 "nbformat": 4,
 "nbformat_minor": 5
}
