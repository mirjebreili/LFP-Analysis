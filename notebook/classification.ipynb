{
 "cells": [
  {
   "cell_type": "code",
   "execution_count": 26,
   "id": "b1487c19",
   "metadata": {},
   "outputs": [],
   "source": [
    "import pandas as pd\n",
    "import numpy as np\n",
    "from sklearn.ensemble import RandomForestClassifier\n",
    "from sklearn.pipeline import make_pipeline\n",
    "from sklearn.svm import LinearSVC\n",
    "from sklearn.neighbors import KNeighborsClassifier\n",
    "from sklearn.preprocessing import StandardScaler\n",
    "from sklearn.model_selection import LeaveOneOut"
   ]
  },
  {
   "cell_type": "code",
   "execution_count": 3,
   "id": "dc1a1968",
   "metadata": {},
   "outputs": [],
   "source": [
    "def knn(df):\n",
    "    data=df.to_numpy()\n",
    "    X=data[:,:-1]\n",
    "    y=data[:,-1]\n",
    "    loo = LeaveOneOut()\n",
    "    ture_preds=0\n",
    "    miss_classified_index=[]\n",
    "    all_y=[]\n",
    "    all_probs=[]\n",
    "    for train_index, test_index in loo.split(X):\n",
    "        X_train, X_test = X[train_index], X[test_index]\n",
    "        y_train, y_test = y[train_index], y[test_index]\n",
    "        scaler = StandardScaler()\n",
    "        X_train=scaler.fit_transform(X_train)\n",
    "        X_test=scaler.transform(X_test)\n",
    "        clf=KNeighborsClassifier()\n",
    "        clf.fit(X_train, y_train)\n",
    "        all_y.append(y_test)\n",
    "        all_probs.append(clf.predict_proba(X_test)[:,1])\n",
    "        if clf.predict(X_test)!=y_test:\n",
    "            miss_classified_index.append(test_index[0].item())\n",
    "        ture_preds+=clf.predict(X_test)==y_test\n",
    "    acc=ture_preds[0]/loo.get_n_splits(X)*100\n",
    "    print(\"Accuracy KNN:\",acc)\n",
    "    rate_wt=0\n",
    "    rate_tg=0\n",
    "    for x in names[miss_classified_index]:\n",
    "        if x[:2]=='WT':\n",
    "            rate_wt+=1\n",
    "        else:\n",
    "            rate_tg+=1\n",
    "    all_y = np.array(all_y)\n",
    "    all_probs = np.array(all_probs)\n",
    "    print(\"Accuracy WT:\",abs((rate_wt/(df.label==0).sum()*100)-100))\n",
    "    print(\"Accuracy TG:\",abs((rate_tg/(df.label==1).sum()*100)-100))\n",
    "    return(acc)"
   ]
  },
  {
   "cell_type": "code",
   "execution_count": 4,
   "id": "1162ffe1",
   "metadata": {},
   "outputs": [],
   "source": [
    "def svm(df):\n",
    "    data=df.to_numpy()\n",
    "    X=data[:,:-1]\n",
    "    y=data[:,-1]\n",
    "    loo = LeaveOneOut()\n",
    "    ture_preds=0\n",
    "    miss_classified_index=[]\n",
    "    for train_index, test_index in loo.split(X):\n",
    "        X_train, X_test = X[train_index], X[test_index]\n",
    "        y_train, y_test = y[train_index], y[test_index]\n",
    "        clf = make_pipeline(StandardScaler(),\n",
    "                        LinearSVC(random_state=0))\n",
    "        clf.fit(X_train, y_train)\n",
    "        if clf.predict(X_test)!=y_test:\n",
    "            miss_classified_index.append(test_index[0].item())\n",
    "        ture_preds+=clf.predict(X_test)==y_test\n",
    "    acc=ture_preds[0]/loo.get_n_splits(X)*100\n",
    "    print(\"Accuracy SVM:\",ture_preds[0]/loo.get_n_splits(X)*100)\n",
    "    rate_wt=0\n",
    "    rate_tg=0\n",
    "    for x in names[miss_classified_index]:\n",
    "        if x[:2]=='WT':\n",
    "            rate_wt+=1\n",
    "        else:\n",
    "            rate_tg+=1\n",
    "    print(\"Accuracy WT:\",abs((rate_wt/(df.label==0).sum()*100)-100))\n",
    "    print(\"Accuracy TG:\",abs((rate_tg/(df.label==1).sum()*100)-100))\n",
    "    return acc"
   ]
  },
  {
   "cell_type": "code",
   "execution_count": 5,
   "id": "0b458621",
   "metadata": {},
   "outputs": [],
   "source": [
    "def rf(df):\n",
    "    data=df.to_numpy()\n",
    "    X=data[:,:-1]\n",
    "    y=data[:,-1]\n",
    "    loo = LeaveOneOut()\n",
    "    ture_preds=0\n",
    "    miss_classified_index=[]\n",
    "    for train_index, test_index in loo.split(X):\n",
    "        X_train, X_test = X[train_index], X[test_index]\n",
    "        y_train, y_test = y[train_index], y[test_index]\n",
    "        clf = make_pipeline(RandomForestClassifier(criterion='entropy',random_state=0))\n",
    "        clf.fit(X_train, y_train)\n",
    "        if clf.predict(X_test)!=y_test:\n",
    "            miss_classified_index.append(test_index[0].item())\n",
    "        ture_preds+=clf.predict(X_test)==y_test\n",
    "    acc=ture_preds[0]/loo.get_n_splits(X)*100\n",
    "    print(\"Accuracy RF:\",acc)\n",
    "    rate_wt=0\n",
    "    rate_tg=0\n",
    "    for x in names[miss_classified_index]:\n",
    "        if x[:2]=='WT':\n",
    "            rate_wt+=1\n",
    "        else:\n",
    "            rate_tg+=1\n",
    "    print(\"Accuracy WT:\",abs((rate_wt/(df.label==0).sum()*100)-100))\n",
    "    print(\"Accuracy TG:\",abs((rate_tg/(df.label==1).sum()*100)-100))\n",
    "    return acc"
   ]
  },
  {
   "cell_type": "code",
   "execution_count": 6,
   "id": "3feb770e",
   "metadata": {},
   "outputs": [],
   "source": [
    "# Loading mean PSD of each mouse\n",
    "wt=pd.read_csv('D:/Projects/SpikeSorting/matlab_files/wt_final.csv')\n",
    "tg=pd.read_csv('D:/Projects/SpikeSorting/matlab_files/tg_final.csv')"
   ]
  },
  {
   "cell_type": "code",
   "execution_count": 7,
   "id": "316add91",
   "metadata": {},
   "outputs": [],
   "source": [
    "wt['label']=0\n",
    "tg['label']=1"
   ]
  },
  {
   "cell_type": "code",
   "execution_count": 8,
   "id": "d180283e",
   "metadata": {},
   "outputs": [],
   "source": [
    "df=pd.concat([wt,tg],axis=0,ignore_index=True)\n",
    "names=df['name']\n",
    "df.drop('name',axis=1,inplace=True)"
   ]
  },
  {
   "cell_type": "markdown",
   "id": "818078ab",
   "metadata": {},
   "source": [
    "# Classification"
   ]
  },
  {
   "cell_type": "markdown",
   "id": "5145d1f2",
   "metadata": {},
   "source": [
    "## KNN"
   ]
  },
  {
   "cell_type": "code",
   "execution_count": 31,
   "id": "633cbfe9",
   "metadata": {},
   "outputs": [
    {
     "name": "stdout",
     "output_type": "stream",
     "text": [
      "Input features: Delta, Theta, Slow Gamma, Fast Gamma\n",
      "Accuracy KNN: 83.33333333333334\n",
      "Accuracy WT: 85.71428571428572\n",
      "Accuracy TG: 81.81818181818181\n",
      "----------\n",
      "Input features: Delta, Theta, Slow Gamma\n",
      "Accuracy KNN: 66.66666666666666\n",
      "Accuracy WT: 57.142857142857146\n",
      "Accuracy TG: 72.72727272727273\n",
      "----------\n",
      "Input features: Delta, Theta\n",
      "Accuracy KNN: 61.111111111111114\n",
      "Accuracy WT: 57.142857142857146\n",
      "Accuracy TG: 63.63636363636363\n",
      "----------\n",
      "Input features: Theta\n",
      "Accuracy KNN: 50.0\n",
      "Accuracy WT: 14.285714285714292\n",
      "Accuracy TG: 72.72727272727273\n"
     ]
    },
    {
     "data": {
      "text/plain": [
       "50.0"
      ]
     },
     "execution_count": 31,
     "metadata": {},
     "output_type": "execute_result"
    }
   ],
   "source": [
    "print('Input features: '+', '.join(df.columns[0:4]))\n",
    "knn(df.iloc[:,[0,1,2,3,4]])\n",
    "print(10*'-')\n",
    "print('Input features: '+', '.join(df.columns[0:3]))\n",
    "knn(df.iloc[:,[0,1,2,4]])\n",
    "print(10*'-')\n",
    "print('Input features: '+', '.join(df.columns[0:2]))\n",
    "knn(df.iloc[:,[0,1,4]])\n",
    "print(10*'-')\n",
    "print('Input features: '+', '.join(df.columns[1:2]))\n",
    "knn(df.iloc[:,[1,4]])"
   ]
  },
  {
   "cell_type": "markdown",
   "id": "ea1ecf19",
   "metadata": {},
   "source": [
    "## SVM"
   ]
  },
  {
   "cell_type": "code",
   "execution_count": 32,
   "id": "7d508f95",
   "metadata": {},
   "outputs": [
    {
     "name": "stdout",
     "output_type": "stream",
     "text": [
      "Input features: Delta, Theta, Slow Gamma, Fast Gamma\n",
      "Accuracy SVM: 83.33333333333334\n",
      "Accuracy WT: 85.71428571428572\n",
      "Accuracy TG: 81.81818181818181\n",
      "----------\n",
      "Input features: Delta, Theta, Slow Gamma\n",
      "Accuracy SVM: 72.22222222222221\n",
      "Accuracy WT: 71.42857142857143\n",
      "Accuracy TG: 72.72727272727273\n",
      "----------\n",
      "Input features: Delta, Theta\n",
      "Accuracy SVM: 44.44444444444444\n",
      "Accuracy WT: 14.285714285714292\n",
      "Accuracy TG: 63.63636363636363\n",
      "----------\n",
      "Input features: Theta\n",
      "Accuracy SVM: 55.55555555555556\n",
      "Accuracy WT: 0.0\n",
      "Accuracy TG: 90.9090909090909\n"
     ]
    },
    {
     "data": {
      "text/plain": [
       "55.55555555555556"
      ]
     },
     "execution_count": 32,
     "metadata": {},
     "output_type": "execute_result"
    }
   ],
   "source": [
    "print('Input features: '+', '.join(df.columns[0:4]))\n",
    "svm(df.iloc[:,[0,1,2,3,4]])\n",
    "print(10*'-')\n",
    "print('Input features: '+', '.join(df.columns[0:3]))\n",
    "svm(df.iloc[:,[0,1,2,4]])\n",
    "print(10*'-')\n",
    "print('Input features: '+', '.join(df.columns[0:2]))\n",
    "svm(df.iloc[:,[0,1,4]])\n",
    "print(10*'-')\n",
    "print('Input features: '+', '.join(df.columns[1:2]))\n",
    "svm(df.iloc[:,[1,4]])"
   ]
  },
  {
   "cell_type": "markdown",
   "id": "71fd706e",
   "metadata": {},
   "source": [
    "## RF"
   ]
  },
  {
   "cell_type": "code",
   "execution_count": 33,
   "id": "a35cee92",
   "metadata": {},
   "outputs": [
    {
     "name": "stdout",
     "output_type": "stream",
     "text": [
      "Input features: Delta, Theta, Slow Gamma, Fast Gamma\n",
      "Accuracy RF: 94.44444444444444\n",
      "Accuracy WT: 100.0\n",
      "Accuracy TG: 90.9090909090909\n",
      "----------\n",
      "Input features: Delta, Theta, Slow Gamma\n",
      "Accuracy RF: 77.77777777777779\n",
      "Accuracy WT: 71.42857142857143\n",
      "Accuracy TG: 81.81818181818181\n",
      "----------\n",
      "Input features: Delta, Theta\n",
      "Accuracy RF: 55.55555555555556\n",
      "Accuracy WT: 42.85714285714286\n",
      "Accuracy TG: 63.63636363636363\n",
      "----------\n",
      "Input features: Theta\n",
      "Accuracy RF: 50.0\n",
      "Accuracy WT: 42.85714285714286\n",
      "Accuracy TG: 54.54545454545455\n"
     ]
    },
    {
     "data": {
      "text/plain": [
       "50.0"
      ]
     },
     "execution_count": 33,
     "metadata": {},
     "output_type": "execute_result"
    }
   ],
   "source": [
    "print('Input features: '+', '.join(df.columns[0:4]))\n",
    "rf(df.iloc[:,[0,1,2,3,4]])\n",
    "print(10*'-')\n",
    "print('Input features: '+', '.join(df.columns[0:3]))\n",
    "rf(df.iloc[:,[0,1,2,4]])\n",
    "print(10*'-')\n",
    "print('Input features: '+', '.join(df.columns[0:2]))\n",
    "rf(df.iloc[:,[0,1,4]])\n",
    "print(10*'-')\n",
    "print('Input features: '+', '.join(df.columns[1:2]))\n",
    "rf(df.iloc[:,[1,4]])"
   ]
  },
  {
   "cell_type": "code",
   "execution_count": null,
   "id": "8ab4752f",
   "metadata": {},
   "outputs": [],
   "source": []
  }
 ],
 "metadata": {
  "kernelspec": {
   "display_name": "Python [conda env:lfp]",
   "language": "python",
   "name": "conda-env-lfp-py"
  },
  "language_info": {
   "codemirror_mode": {
    "name": "ipython",
    "version": 3
   },
   "file_extension": ".py",
   "mimetype": "text/x-python",
   "name": "python",
   "nbconvert_exporter": "python",
   "pygments_lexer": "ipython3",
   "version": "3.7.11"
  }
 },
 "nbformat": 4,
 "nbformat_minor": 5
}
